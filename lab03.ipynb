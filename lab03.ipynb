{
 "cells": [
  {
   "cell_type": "markdown",
   "metadata": {},
   "source": [
    "# Lab 03: Tuple, List & Dictionary"
   ]
  },
  {
   "cell_type": "markdown",
   "metadata": {},
   "source": [
    "## Exercise 1\n",
    "\n",
    "You are given a list of tuples called `two_nums`. Each tuple contains 2 numbers. Find and print the tuple with the largest difference between the 2 elements!"
   ]
  },
  {
   "cell_type": "code",
   "execution_count": 29,
   "metadata": {},
   "outputs": [
    {
     "data": {
      "text/plain": [
       "[(30, 74),\n",
       " (17, 88),\n",
       " (92, 69),\n",
       " (5, 68),\n",
       " (28, 62),\n",
       " (12, 49),\n",
       " (40, 39),\n",
       " (32, 63),\n",
       " (91, 73),\n",
       " (85, 38)]"
      ]
     },
     "execution_count": 29,
     "metadata": {},
     "output_type": "execute_result"
    }
   ],
   "source": [
    "# use this to test your code\n",
    "import random\n",
    "\n",
    "two_nums = [(random.randint(1, 100), random.randint(1, 100)) for k in range(10)]\n",
    "two_nums"
   ]
  },
  {
   "cell_type": "code",
   "execution_count": 32,
   "metadata": {},
   "outputs": [
    {
     "name": "stdout",
     "output_type": "stream",
     "text": [
      "Maximum difference among pairs : 71\n",
      "The tuple with maximum difference is : [(17, 88)]\n"
     ]
    }
   ],
   "source": [
    "# add your code here\n",
    "dif_fin = 0\n",
    "tup_fin = []\n",
    "for num1, num2 in two_nums:\n",
    "    dif0 = abs(num1-num2)\n",
    "    #print(dif1)\n",
    "    if dif0 > dif_fin:\n",
    "        dif_fin = dif0\n",
    "        tup_fin = [(num1,num2)]\n",
    "    elif dif0 == dif_fin:\n",
    "        tup_fin.append((num1,num2))\n",
    "\n",
    "print(\"Maximum difference among pairs : \" + str(dif_fin))\n",
    "print(\"The tuple with maximum difference is : \" + str(tup_fin))"
   ]
  },
  {
   "cell_type": "markdown",
   "metadata": {},
   "source": [
    "## Exercise 2\n",
    "\n",
    "Two numbers are called relatively primes if their only common divisor is 1. You are given a list of tuples called `a_list`. Each typle contains 2 numbers. Find all the tuples that are relatively primes and store them in a list called `relative_primes`."
   ]
  },
  {
   "cell_type": "code",
   "execution_count": 19,
   "metadata": {},
   "outputs": [],
   "source": [
    "# use these to test your code\n",
    "a_list = [(12, 17), (12, 18), (4, 8), (7, 81), (5, 7), (2, 2)]"
   ]
  },
  {
   "cell_type": "code",
   "execution_count": 22,
   "metadata": {},
   "outputs": [
    {
     "name": "stdout",
     "output_type": "stream",
     "text": [
      "[(12, 17), (7, 81), (5, 7)]\n"
     ]
    }
   ],
   "source": [
    "# add your code here\n",
    "def gcd(a, b): \n",
    "    if (a == 0): \n",
    "        return b \n",
    "    return gcd(b % a, a)\n",
    "\n",
    "def findDivisors(n1, n2): \n",
    "    arr = [n1,n2]\n",
    "    N = len(arr)\n",
    "      \n",
    "    # Variable to find the gcd \n",
    "    # of N numbers \n",
    "    g = arr[0] \n",
    "  \n",
    "    # Set to store all the \n",
    "    # common divisors \n",
    "    divisors = dict() \n",
    "  \n",
    "    # Finding GCD of the given \n",
    "    # N numbers \n",
    "    for i in range(1, N): \n",
    "        g = gcd(arr[i], g) \n",
    "  \n",
    "    # Finding divisors of the \n",
    "    # HCF of n numbers \n",
    "    for i in range(1, g + 1): \n",
    "        if i*i > g: \n",
    "            break\n",
    "        if (g % i == 0): \n",
    "            divisors[i] = 1\n",
    "            if (g // i != i): \n",
    "                divisors[g // i] = 1\n",
    "    AA = sorted(divisors)\n",
    "    return AA\n",
    "com_div = ()\n",
    "relative_primes = []\n",
    "for a, b in a_list:\n",
    "    com_div = findDivisors(a, b)\n",
    "    #print(com_div)\n",
    "    if com_div == [1]:\n",
    "        relative_primes.append((a,b))\n",
    "print(relative_primes)"
   ]
  },
  {
   "cell_type": "markdown",
   "metadata": {},
   "source": [
    "## Exercise 3\n",
    "\n",
    "A code (in number) is written down in text and given to you as string `s`. For example, `s = 'one two two five'`. Write a program that translates the code to a number and stores it in a variable called `result`, e.g. `result = 1225`.\n",
    "\n",
    "**Yes!** You're right, we did this problem in lab02. But this time solve this problem using dictionary!"
   ]
  },
  {
   "cell_type": "code",
   "execution_count": 55,
   "metadata": {},
   "outputs": [],
   "source": [
    "# use this to test your code\n",
    "s = 'one two two five'"
   ]
  },
  {
   "cell_type": "code",
   "execution_count": 56,
   "metadata": {},
   "outputs": [
    {
     "data": {
      "text/plain": [
       "1225"
      ]
     },
     "execution_count": 56,
     "metadata": {},
     "output_type": "execute_result"
    }
   ],
   "source": [
    "# add your code here\n",
    "headersDict = {'zero':'0','one':'1','two': '2','three': '3','four':'4',\n",
    "               'five':'5','six':'6','seven':'7','eight':'8','nine':'9'}\n",
    "headersList = s.split()\n",
    "headersList = [ headersDict.get(item,item) for item in headersList ]\n",
    "headersList\n",
    "result = int(\"\".join(headersList))\n",
    "result"
   ]
  },
  {
   "cell_type": "markdown",
   "metadata": {},
   "source": [
    "## Submit Your Work"
   ]
  },
  {
   "cell_type": "markdown",
   "metadata": {},
   "source": [
    "You're almost done -- congratulations!\n",
    "\n",
    "You need to do a few more things:\n",
    "\n",
    "1. Save your work.  To do this, create a **notebook checkpoint** by using the menu within the notebook to go **File -> Save and Checkpoint**\n",
    "\n",
    "2. Click **File** -> **Close and Halt** to close this notebook.\n",
    "\n",
    "3. Click **Logout** on Jupyter to return your terminal back to the command prompt.\n",
    "\n",
    "4. Follow the assignment instructions to submit this assignment."
   ]
  },
  {
   "cell_type": "markdown",
   "metadata": {},
   "source": [
    "*(This lab was adapted from Wade Fagen-Ulmschneider & Karle Flanagan’s STAT 107 lab_intro with permission.)*"
   ]
  }
 ],
 "metadata": {
  "kernelspec": {
   "display_name": "Python 3",
   "language": "python",
   "name": "python3"
  },
  "language_info": {
   "codemirror_mode": {
    "name": "ipython",
    "version": 3
   },
   "file_extension": ".py",
   "mimetype": "text/x-python",
   "name": "python",
   "nbconvert_exporter": "python",
   "pygments_lexer": "ipython3",
   "version": "3.7.6"
  }
 },
 "nbformat": 4,
 "nbformat_minor": 2
}
