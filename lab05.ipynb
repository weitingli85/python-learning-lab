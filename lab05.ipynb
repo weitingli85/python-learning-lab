{
 "cells": [
  {
   "cell_type": "markdown",
   "metadata": {},
   "source": [
    "# Lab 05: NumPy Applications"
   ]
  },
  {
   "cell_type": "markdown",
   "metadata": {},
   "source": [
    "## Exercise 1\n",
    "\n",
    "Consider the following random walk:\n",
    "\n",
    "- The walk starts 0.\n",
    "- The possible steps to take are: -3, -2, -1, 1, 2, 3.\n",
    "- The probability of taking a step follows a binomial distribution where n = 5 and p = 0.2.\n",
    "    - That is, the probability of taking a step of -3 is $\\binom{5}{0} 0.2^0 (1-0.2)^5$.\n",
    "    - Or the probability of taking a step of 1 is $\\binom{5}{3} 0.2^3 (1-0.2)^2$.\n",
    "\n",
    "Use NumPy functions to simulate the the random walk described above with 1000 steps and store the walk in a variable named `walk`."
   ]
  },
  {
   "cell_type": "code",
   "execution_count": 195,
   "metadata": {},
   "outputs": [],
   "source": [
    "# add your code here\n",
    "import numpy as np\n",
    "np.random.seed(430)\n",
    "draws = np.random.binomial(5,0.2,size=1000)\n",
    "B = np.array([-3,-2,-1,1,2,3])\n",
    "for i in range(1000):\n",
    "    draws[i] = B[draws[i]]\n",
    "walk = draws.cumsum()"
   ]
  },
  {
   "cell_type": "markdown",
   "metadata": {},
   "source": [
    "## Exercise 2\n",
    "\n",
    "Consider the following random walk:\n",
    "\n",
    "- The walk starts (0,0) and can move towards 4 directions: North, East, South, West.\n",
    "- The possible steps to take are: (-1, -1), (-1, 0), (-1, 1), (0, -1), (0, 0), (0, 1), (1, -1), (1, 0), (1, 1).\n",
    "- The probability of taking a step is the same for all the steps.\n",
    "\n",
    "Use NumPy functions to simulate the the random walk described above with 1000 steps and store the walk in a variable named `walk`.\n",
    "\n",
    "*Note*: There are different ways to do this problem and store your positions in a NumPy array. If you have any doubt, feel free to post on Piazza or email me! "
   ]
  },
  {
   "cell_type": "code",
   "execution_count": 200,
   "metadata": {},
   "outputs": [],
   "source": [
    "# your code here\n",
    "np.random.seed(430)\n",
    "sampling = np.random.randint(9, size=1000)\n",
    "BB = np.array([(-1,-1),(-1,0),(-1,0),(0,-1),(0,1),(0,1),(1,-1),(1,0),(1,1)])\n",
    "cc_NEW = np.empty((0,2), int)\n",
    "for i in range(1000):\n",
    "    cc_NEW = np.append(cc_NEW,np.array([BB[sampling[i]]]),axis=0)\n",
    "walk = cc_NEW.cumsum(axis=0)"
   ]
  },
  {
   "cell_type": "markdown",
   "metadata": {},
   "source": [
    "## Submit Your Work"
   ]
  },
  {
   "cell_type": "markdown",
   "metadata": {},
   "source": [
    "You're almost done -- congratulations!\n",
    "\n",
    "You need to do a few more things:\n",
    "\n",
    "1. Save your work.  To do this, create a **notebook checkpoint** by using the menu within the notebook to go **File -> Save and Checkpoint**\n",
    "\n",
    "2. Click **File** -> **Close and Halt** to close this notebook.\n",
    "\n",
    "3. Click **Logout** on Jupyter to return your terminal back to the command prompt.\n",
    "\n",
    "4. Follow the assignment instructions to submit this assignment."
   ]
  }
 ],
 "metadata": {
  "kernelspec": {
   "display_name": "Python 3",
   "language": "python",
   "name": "python3"
  },
  "language_info": {
   "codemirror_mode": {
    "name": "ipython",
    "version": 3
   },
   "file_extension": ".py",
   "mimetype": "text/x-python",
   "name": "python",
   "nbconvert_exporter": "python",
   "pygments_lexer": "ipython3",
   "version": "3.7.6"
  }
 },
 "nbformat": 4,
 "nbformat_minor": 2
}
